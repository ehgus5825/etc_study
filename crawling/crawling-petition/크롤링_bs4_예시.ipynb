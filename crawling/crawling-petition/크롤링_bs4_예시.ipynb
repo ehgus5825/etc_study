{
  "nbformat": 4,
  "nbformat_minor": 0,
  "metadata": {
    "colab": {
      "name": "크롤링 - bs4 예시",
      "provenance": []
    },
    "kernelspec": {
      "name": "python3",
      "display_name": "Python 3"
    },
    "language_info": {
      "name": "python"
    }
  },
  "cells": [
    {
      "cell_type": "code",
      "source": [
        "import requests\n",
        "from bs4 import BeautifulSoup\n",
        "\n",
        "url = 'https://www1.president.go.kr/petitions/605203'\n",
        "res = requests.get(url)\n",
        "res.raise_for_status()  # 문제시 프로그램 종료\n",
        "soup = BeautifulSoup(res.text, \"lxml\")\n"
      ],
      "metadata": {
        "id": "0aPTtiaHQyUX"
      },
      "execution_count": null,
      "outputs": []
    },
    {
      "cell_type": "code",
      "source": [
        "if soup.find(\"div\", attrs={\"class\": \"petitionsView_write\"}):\n",
        "    text = soup.find(\"div\", attrs={\"class\": \"petitionsView_write\"}).get_text()\n",
        "    print(text)"
      ],
      "metadata": {
        "colab": {
          "base_uri": "https://localhost:8080/"
        },
        "id": "lg_8aUTLRZfW",
        "outputId": "22b1068a-9c7e-4c23-bf9e-a1c992a9af60"
      },
      "execution_count": null,
      "outputs": [
        {
          "output_type": "stream",
          "name": "stdout",
          "text": [
            "\n",
            "\n",
            "청원내용\n",
            "\n",
            "\n",
            "\n",
            "\t\t\t\t\t\t\t\t\t\t검찰개혁을 완수하고 공정과 상식의 대한민국을 이끌어갈 리더로서\r\n",
            "그간 ***검사가 보여준 공직자로서의 모습이 충분히 부합되고 적합하다고 많은 국민이 생각하고 있습니다\n",
            "\r\n",
            "부디 국민들의 뜻을 헤아려 마지막 임명권한을\r\n",
            "행사해주시길 간곡히 부탁드립니다\n",
            "\n",
            " [본 게시물의 일부 내용이 국민 청원 요건에 위배되어 관리자에 의해 수정되었습니다]\t\t\t\t\t\t\t\t\t\n",
            "\n",
            "\n",
            "\n"
          ]
        }
      ]
    }
  ]
}